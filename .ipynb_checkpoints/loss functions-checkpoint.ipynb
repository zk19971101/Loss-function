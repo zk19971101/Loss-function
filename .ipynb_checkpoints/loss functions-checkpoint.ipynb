{
 "cells": [
  {
   "cell_type": "code",
   "execution_count": 47,
   "id": "cb7ca20d",
   "metadata": {},
   "outputs": [],
   "source": [
    "import torch\n",
    "import torch.nn as nn\n",
    "from torch.nn import functional as F"
   ]
  },
  {
   "cell_type": "code",
   "execution_count": 67,
   "id": "55e2783b",
   "metadata": {},
   "outputs": [],
   "source": [
    "# 交叉熵损失函数 CrossEntropyLoss\n",
    "class CrossEntropyLoss(nn.Module):\n",
    "    def __init__(self, weight=None, ignore_index=-100, reduction='mean'):\n",
    "        super(CrossEntropyLoss, self).__init__()\n",
    "        self.reduction_list = ['none', 'mean', 'sum']\n",
    "        if reduction not in self.reduction_list: raise AttributeError(f'{reduction} is not in {self.reduction_List}')\n",
    "        self.weight = weight\n",
    "        self.reduction = reduction\n",
    "#         self.ignore_index = ignore_index\n",
    "\n",
    "    def forward(self, y_pred, y_true):\n",
    "        \"\"\"\n",
    "        y_pred的结构可以为(C),(N,C),(N,d1,d2,...,C),数值为神经网络的输出；\n",
    "        y_true的结构对应为(),(N),(N,d1,d2,...),数值为类别标签，值域为（0，C）；\n",
    "        当y_true中不止一个地方为1时（multi-targets），设置其结构为(C),(N,C),(N,d1,d2,...,C),值域在[0, 1]\n",
    "        \"\"\"\n",
    "        if y_pred.ndim - y_true.ndim == 1:\n",
    "            y_true = F.one_hot(y_true, num_classes=y_pred.shape[-1])\n",
    "        if self.weight is None:\n",
    "            weight = torch.tensor([1])\n",
    "        else:\n",
    "            weight = self.weight\n",
    "        if not weight.is_cuda and y_pred.is_cuda:\n",
    "            weight = weight.cuda()\n",
    "        matrix = weight * -torch.log(torch.softmax(y_pred, dim=-1)) * y_true\n",
    "        if self.reduction == self.reduction_list[0]:\n",
    "            return matrix\n",
    "        elif self.reduction == self.reduction_list[1]:\n",
    "            return matrix.sum() / len(y_pred)\n",
    "        else:\n",
    "            return matrix.sum()"
   ]
  },
  {
   "cell_type": "markdown",
   "id": "6e35e433",
   "metadata": {},
   "source": [
    "# 测试\n",
    "当return matrix.sum() / len(y_pred)改为return matrix.sum() / (len(y_pred)*weight).mean()时，out1等于out2"
   ]
  },
  {
   "cell_type": "code",
   "execution_count": 72,
   "id": "2e996ef2",
   "metadata": {},
   "outputs": [
    {
     "name": "stdout",
     "output_type": "stream",
     "text": [
      "tensor([4.2609, 0.5128, 0.8541])\n",
      "tensor([[0.0000, 0.0000, 4.2609],\n",
      "        [0.0000, 0.5128, 0.0000],\n",
      "        [0.8541, 0.0000, 0.0000]])\n"
     ]
    }
   ],
   "source": [
    "torch.manual_seed(2)\n",
    "inputs = torch.randn((3, 3))\n",
    "target = torch.tensor([2, 1, 0])\n",
    "# target = torch.randn((3, 3))\n",
    "weight = torch.tensor([1, 2, 3], dtype=torch.float)\n",
    "loss1 = nn.CrossEntropyLoss(weight=weight, reduction='none')\n",
    "out1 = loss1(inputs, target)\n",
    "print(out1)\n",
    "loss2 = CrossEntropyLoss(weight=weight, reduction='none')\n",
    "out2 = loss2(inputs, target)\n",
    "print(out2)"
   ]
  },
  {
   "cell_type": "code",
   "execution_count": 73,
   "id": "01302e52",
   "metadata": {},
   "outputs": [
    {
     "name": "stdout",
     "output_type": "stream",
     "text": [
      "tensor([ 5.9395, -4.5570, -1.0170])\n",
      "tensor([[-0.7387,  3.4926,  3.1856],\n",
      "        [-3.3240, -0.6365, -0.5965],\n",
      "        [-0.8112,  1.0956, -1.3015]])\n"
     ]
    }
   ],
   "source": [
    "target = torch.randn((3, 3))\n",
    "out1 = loss1(inputs, target)\n",
    "print(out1)\n",
    "out2 = loss2(inputs, target)\n",
    "print(out2)"
   ]
  },
  {
   "cell_type": "code",
   "execution_count": 75,
   "id": "79158277",
   "metadata": {},
   "outputs": [],
   "source": [
    "#负对数似然损失函数\n",
    "class NLLLoss(nn.Module):\n",
    "    def __init__(self, weight=None, reduction='mean', ignore_index=-100):\n",
    "        super(NLLLoss, self).__init__()\n",
    "        self.reduction_list = ['none', 'mean', 'sum']\n",
    "        if reduction not in self.reduction_list: raise AttributeError(f'{reduction} is not in {self.reduction_List}')\n",
    "        self.weight = weight\n",
    "        self.reduction = reduction\n",
    "        self.ignore_index = ignore_index\n",
    "\n",
    "    def forward(self, y_pred, y_true):\n",
    "        '''\n",
    "        :param y_pred: 输入为经过softmax和log后的概率值，结构可以为（N，C）or（N，d1,d2,...，C）\n",
    "        :param y_true: 输入为类别索引，结构为（N）or（N，d1,d2,...）\n",
    "        :return:\n",
    "        '''\n",
    "        ignore_index = y_true == self.ignore_index\n",
    "        y_true = F.one_hot(y_true, num_classes=y_pred.shape[-1])\n",
    "        y_true[ignore_index] = 0\n",
    "        if self.weight is None:\n",
    "            weight = torch.tensor([1])\n",
    "        else:\n",
    "            weight = self.weight\n",
    "        if not weight.is_cuda and y_pred.is_cuda:\n",
    "            weight = weight.cuda()\n",
    "\n",
    "        matrix = weight * -y_pred * y_true\n",
    "        if self.reduction == self.reduction_list[0]:\n",
    "            return matrix\n",
    "        elif self.reduction == self.reduction_list[1]:\n",
    "            return matrix.sum() / (len(y_true) - ignore_index.sum())\n",
    "        else:\n",
    "            return matrix.sum()"
   ]
  },
  {
   "cell_type": "code",
   "execution_count": 76,
   "id": "d30ab6fc",
   "metadata": {},
   "outputs": [
    {
     "name": "stdout",
     "output_type": "stream",
     "text": [
      "tensor(1.9220)\n",
      "tensor(1.9220)\n"
     ]
    }
   ],
   "source": [
    "# torch.manual_seed(2)\n",
    "inputs = torch.log(torch.softmax(torch.randn((3, 3)), dim=-1))\n",
    "target = torch.tensor([0, 2, 1])\n",
    "\n",
    "weight = torch.tensor([1, 2, 3], dtype=torch.float)\n",
    "ignore = 1\n",
    "reduction = 'mean'\n",
    "loss1 = nn.NLLLoss(ignore_index=ignore, reduction=reduction)\n",
    "out1 = loss1(inputs, target)\n",
    "print(out1)\n",
    "loss2 = NLLLoss(reduction=reduction, ignore_index=ignore)\n",
    "out2 = loss2(inputs, target)\n",
    "print(out2)"
   ]
  },
  {
   "cell_type": "code",
   "execution_count": 78,
   "id": "142b15b6",
   "metadata": {},
   "outputs": [],
   "source": [
    "#二元交叉熵损失函数，binary crossentropy loss\n",
    "class BCELoss(nn.Module):\n",
    "    def __init__(self, weight=None, reduction='mean'):\n",
    "        super(BCELoss, self).__init__()\n",
    "        self.reduction_list = ['none', 'mean', 'sum']\n",
    "        if reduction not in self.reduction_list: raise AttributeError(f'{reduction} is not in {self.reduction_List}')\n",
    "        self.weight = weight\n",
    "        self.reduction = reduction\n",
    "\n",
    "    def forward(self, y_pred, y_true):\n",
    "        '''\n",
    "        :param y_pred: 输入形状为（N），数值为[0, 1]\n",
    "        :param y_true: 与输入形状相同（N），数值为0 or 1, 非零即一\n",
    "        :return:\n",
    "        '''\n",
    "        if self.weight is None:\n",
    "            weight = torch.tensor([1.])\n",
    "        else:\n",
    "            weight = self.weight\n",
    "        matrix = weight * torch.where(torch.eq(y_true, 1), -torch.log(y_pred), -torch.log(1 - y_pred))\n",
    "        if self.reduction == self.reduction_list[0]:\n",
    "            return matrix\n",
    "        elif self.reduction == self.reduction_list[1]:\n",
    "            return matrix.mean()\n",
    "        else:\n",
    "            return matrix.sum()"
   ]
  },
  {
   "cell_type": "code",
   "execution_count": 80,
   "id": "4eb050b6",
   "metadata": {},
   "outputs": [
    {
     "name": "stdout",
     "output_type": "stream",
     "text": [
      "tensor(0.8701)\n",
      "tensor(0.8701)\n"
     ]
    }
   ],
   "source": [
    "# torch.manual_seed(2)\n",
    "inputs = torch.sigmoid(torch.randn((3,1)))\n",
    "target = torch.empty(3,1).random_(2)\n",
    "weight = torch.tensor([1, 2, 3], dtype=torch.float)\n",
    "# weight = None\n",
    "reduction = 'mean'\n",
    "loss1 = nn.BCELoss(reduction=reduction)\n",
    "out1 = loss1(inputs, target)\n",
    "print(out1)\n",
    "loss2 = BCELoss(reduction=reduction)\n",
    "out2 = loss2(inputs, target)\n",
    "print(out2)"
   ]
  },
  {
   "cell_type": "code",
   "execution_count": null,
   "id": "1cba5f3f",
   "metadata": {},
   "outputs": [],
   "source": []
  }
 ],
 "metadata": {
  "kernelspec": {
   "display_name": "Python 3 (ipykernel)",
   "language": "python",
   "name": "python3"
  },
  "language_info": {
   "codemirror_mode": {
    "name": "ipython",
    "version": 3
   },
   "file_extension": ".py",
   "mimetype": "text/x-python",
   "name": "python",
   "nbconvert_exporter": "python",
   "pygments_lexer": "ipython3",
   "version": "3.8.13"
  }
 },
 "nbformat": 4,
 "nbformat_minor": 5
}
